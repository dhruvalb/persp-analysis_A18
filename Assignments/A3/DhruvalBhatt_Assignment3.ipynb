{
 "cells": [
  {
   "cell_type": "markdown",
   "metadata": {},
   "source": [
    "# Dhruval Bhatt\n",
    "### MACS 30000, Dr. Evans\n",
    "### Assignment 3\n"
   ]
  },
  {
   "cell_type": "markdown",
   "metadata": {},
   "source": []
  },
  {
   "cell_type": "code",
   "execution_count": 98,
   "metadata": {},
   "outputs": [],
   "source": [
    "# Import initial packages\n",
    "import numpy as np\n",
    "import matplotlib.pyplot as plt\n",
    "from matplotlib.ticker import MultipleLocator"
   ]
  },
  {
   "cell_type": "markdown",
   "metadata": {},
   "source": [
    "# Part 1"
   ]
  },
  {
   "cell_type": "markdown",
   "metadata": {},
   "source": [
    "The paper, Simulation in Sociology, by Sabrina Moretti reviews different computational research methods such as multiagent systems, cellular automata and genetic algorithms. She postulates that of the languages to express theories in social science, computational language is a happy median in between natural language that can be vague and mathematical language that is not suitable for some non-linear phenomenon. Using simulation can help understand structures of different complex systems and effects of variation. However, a good computational implementation needs to be an accurate representation of the real world. This is the validity of a model. While discussing the different type of computational modeling approaches, the author discusses the limitation of each. \n",
    "\n",
    "A multiagent system analysis is useful understanding and controlling networked behavior by using or defining the characteristics of individuals. As the author notes, it is an important tool in addressing the social behavior research. The key point is the individual and proposed theory of interaction. Incorrect understanding of individual's characteristics or incorrect theory could lead to misleading ideas. On the other hand, cellular automata's limitations in regard to validity. Cellular Automata can be described as a kind of multiagent system in which the agents have a specific and determined position in a lattice and are homogeneous in their behavior and in their modality of interaction. This model updates synchronously to start revealing patterns in overall structure. However, while considering social phenomenon such as public opinion, it is invalid to assume that all people transition to a different state at the same time. Another deviation from real world would be that in the model each individual interacts with only a subset of the population not the whole set. It is not always the case in real world that an individual only interacts with neighbors or predefined subset. However, these concerns can be addressed, and each method should be carefully applied to align with the representation of the real world.  \n",
    "\n",
    "The key characteristic and an advantage of modeling using computational simulation is cases of dynamic feedback.  Dynamic feedback is when some initial stimulus changes behavior and then that change creates a new stimulus which causes further behavioral change. The author discusses the property of emergence, that is, the system self organizes till a point of equilibrium is reached. She states that this process of self-organizing gives rise to system properties that are not dependent on individual properties. Simulation and modeling can be very useful to understand complex systems. One of example she mentions is Doran et al. (1994) who use the simulative experiments to discover the circumstances that influence the formation of hierarchies in a social group. \n",
    "\n",
    "This phenomenon of circular feedback can be seen in many fields especially in that of social science. For instance, in political science, an important question being researched is voter participation and government lead policy changes. While theoretically it is agreed that as more people vote a certain way on a given matter, change is implemented as that stance. Many people feel discouraged to vote as they never see any actual change. However, it can also be said that no real change occurs because people do not participate in the democratic process and vote. The research question does voter participation facilitate good policy changes or do good policy changes encourage higher voter participation explores the characteristic of dynamic feedback. A well - constructed computational model can explore many different scenarios to help find insight into voting behavior of people.  \n",
    "The increase in computational tools and research in new methods holds a promising future for the use of computer simulation in sociology and many of us would agree with the author’s enthusiasm to use them in social science research. \n",
    "\n",
    "References\n",
    "\n",
    "Moretti, Sabrina, “Computer Simulation in Sociology: What Contribution?,\" Social Science Computer Review, Spring 2002, 20 (1), 43-57.\n"
   ]
  },
  {
   "cell_type": "markdown",
   "metadata": {},
   "source": [
    "# Part 2a"
   ]
  },
  {
   "cell_type": "code",
   "execution_count": 112,
   "metadata": {},
   "outputs": [],
   "source": [
    "def income_sim(p):\n",
    "    \n",
    "    \"\"\"\n",
    "    Requires a simulation profile, p, structured as a dictionary\n",
    "    \n",
    "    p = {\n",
    "        'inc0'      : 80000,      # starting income\n",
    "        'g'         : 0.025,      # long run annual growth rate\n",
    "        'st_year'   : int(2020),  # start year\n",
    "        'wk_years'  : 40,         # years to work\n",
    "        'num_draws' : 10000,      # simulations\n",
    "        'sigma'     : 0.13,       # standard deviation\n",
    "        'm'         : 0,          # mean\n",
    "        'rho'       : 0.4         # persistence\n",
    "    }\n",
    "    \"\"\"    \n",
    "    #set random seed\n",
    "    np.random.seed(524)\n",
    "    \n",
    "    normal_errors = []\n",
    "    #Error term is normally distributed\n",
    "    normal_errors = np.random.normal(p['m'], p['sigma'], size = (p['wk_years'],p['num_draws']))\n",
    "    \n",
    "    #create a matrix of dim (wk_years, num_draws)\n",
    "    ln_inc_mat = np.zeros((p['wk_years'], p['num_draws']))\n",
    "    \n",
    "    #fill the matrix for the initial value\n",
    "    ln_inc_mat[0, :] = np.log(p['inc0']) + normal_errors[0, :]\n",
    "   \n",
    "    #loop and apply model\n",
    "    \n",
    "    for yr in range(1, p['wk_years']):\n",
    "        ln_inc_mat[yr, :] = (1 - p['rho'])*(np.log(p['inc0']) + p['g'] * (yr)) + \\\n",
    "        (p['rho'] * ln_inc_mat[yr - 1, :]) + normal_errors[yr, :]\n",
    "    \n",
    "    income_mat = np.exp(ln_inc_mat) #dealing with large numbers so put in terms of 10k's\n",
    "    \n",
    "    return income_mat\n",
    "    \n"
   ]
  },
  {
   "cell_type": "code",
   "execution_count": 113,
   "metadata": {},
   "outputs": [],
   "source": [
    "simulation_profile = {\n",
    "    'inc0'      : 80000,\n",
    "    'g'         : 0.025,\n",
    "    'rho'       : 0.4,\n",
    "    'st_year'   : int(2020),\n",
    "    'wk_years'  : 40,\n",
    "    'sigma'     : 0.13,\n",
    "    'm'         : 0, \n",
    "    'num_draws' : 10000\n",
    "}\n",
    "\n",
    "income_mat = income_sim(simulation_profile)"
   ]
  },
  {
   "cell_type": "markdown",
   "metadata": {},
   "source": [
    "Plot of one lifetime income path from 2020 to 2059"
   ]
  },
  {
   "cell_type": "code",
   "execution_count": 114,
   "metadata": {},
   "outputs": [
    {
     "data": {
      "text/plain": [
       "Text(0,0.5,'Annual Income (\\\\$)')"
      ]
     },
     "execution_count": 114,
     "metadata": {},
     "output_type": "execute_result"
    },
    {
     "data": {
      "image/png": "[encoded data removed]",
      "text/plain": [
       "<Figure size 432x288 with 1 Axes>"
      ]
     },
     "metadata": {
      "needs_background": "light"
     },
     "output_type": "display_data"
    }
   ],
   "source": [
    "%matplotlib inline\n",
    "p = simulation_profile\n",
    "year_vec = np.arange(p['st_year'], p['st_year'] + p['wk_years'])\n",
    "individual = 0\n",
    "fig, ax = plt.subplots()\n",
    "plt.plot(year_vec, income_mat[:,individual])\n",
    "\n",
    "minorLocator = MultipleLocator(1)\n",
    "ax.xaxis.set_minor_locator(minorLocator)\n",
    "plt.grid(b=True, which='major', color='0.65', linestyle='-')\n",
    "plt.title('Individual Simulated Lifetime Income', fontsize=10)\n",
    "plt.xlabel(r'Year $t$')\n",
    "plt.ylabel(r'Annual Income (\\$)')"
   ]
  },
  {
   "cell_type": "markdown",
   "metadata": {},
   "source": [
    "# Part 2b"
   ]
  },
  {
   "cell_type": "markdown",
   "metadata": {},
   "source": [
    "Histogram of initial income is shown below"
   ]
  },
  {
   "cell_type": "code",
   "execution_count": 115,
   "metadata": {},
   "outputs": [
    {
     "data": {
      "text/plain": [
       "Text(0.5,1,'Distribution of Initial Income')"
      ]
     },
     "execution_count": 115,
     "metadata": {},
     "output_type": "execute_result"
    },
    {
     "data": {
      "image/png": "[encoded data removed]",
      "text/plain": [
       "<Figure size 432x288 with 1 Axes>"
      ]
     },
     "metadata": {
      "needs_background": "light"
     },
     "output_type": "display_data"
    }
   ],
   "source": [
    "plt.hist(income_mat[0,:], bins = 50, ec = 'black')\n",
    "plt.xlabel(\"Sample Number\")\n",
    "plt.ylabel(\"Number of Responses\")\n",
    "minorLocator = MultipleLocator(1)\n",
    "ax.xaxis.set_minor_locator(minorLocator)\n",
    "plt.title('Distribution of Initial Income', fontsize = 10)"
   ]
  },
  {
   "cell_type": "markdown",
   "metadata": {},
   "source": [
    "Percent of the class that will earn more than $100,000 in the first year out of the program"
   ]
  },
  {
   "cell_type": "code",
   "execution_count": 116,
   "metadata": {
    "scrolled": true
   },
   "outputs": [
    {
     "name": "stdout",
     "output_type": "stream",
     "text": [
      "The percent of class making more than 100000 is: 4.17\n",
      "The percent of class making less than 70000 is : 15.12\n"
     ]
    }
   ],
   "source": [
    "count_hundred = 0 \n",
    "count_seventy = 0\n",
    "\n",
    "for i in range(len(income_mat[0,:])):\n",
    "    if income_mat[0, i] > 100000:\n",
    "        count_hundred = count_hundred + 1\n",
    "    elif income_mat[0, i] < 70000:\n",
    "        count_seventy = count_seventy + 1 \n",
    "\n",
    "tot = len(income_mat[0,:])\n",
    "\n",
    "print(\"The percent of class making more than 100000 is:\", count_hundred/tot*100)\n",
    "print(\"The percent of class making less than 70000 is :\", round(count_seventy/tot*100,2))"
   ]
  },
  {
   "cell_type": "markdown",
   "metadata": {},
   "source": [
    "The distribution is approximately normal as it is symmterical and bell curve shaped. However, the slightly elongated tail on the right is like a log normal plot. "
   ]
  },
  {
   "cell_type": "markdown",
   "metadata": {},
   "source": [
    "# Part 2c"
   ]
  },
  {
   "cell_type": "markdown",
   "metadata": {},
   "source": [
    "Histogram of how many years to pay off $95000, zero interest debt using 10 percent of annual salary"
   ]
  },
  {
   "cell_type": "code",
   "execution_count": 117,
   "metadata": {},
   "outputs": [],
   "source": [
    "debt_tot = 95000\n",
    "sim = simulation_profile['num_draws']\n",
    "years = []\n",
    "\n",
    "for j in range(sim):\n",
    "    debt = debt_tot #initial debt\n",
    "    yearpp = 0     #counter to count # of years for each\n",
    "    for i in range(len(income_mat[0,:])):\n",
    "        payment = 10/100 * income_mat[i][j]\n",
    "        debt = debt - payment\n",
    "        yearpp = yearpp + 1\n",
    "        if debt <= 0:\n",
    "            years.append(yearpp)\n",
    "            break        "
   ]
  },
  {
   "cell_type": "code",
   "execution_count": 118,
   "metadata": {},
   "outputs": [
    {
     "data": {
      "text/plain": [
       "Text(0.5,1,'Distribution of Years to Pay Off Debt, Starting Income $80k')"
      ]
     },
     "execution_count": 118,
     "metadata": {},
     "output_type": "execute_result"
    },
    {
     "data": {
      "image/png": "[encoded data removed]",
      "text/plain": [
       "<Figure size 432x288 with 1 Axes>"
      ]
     },
     "metadata": {
      "needs_background": "light"
     },
     "output_type": "display_data"
    }
   ],
   "source": [
    "plt.hist(years, bins=5, ec = 'black')\n",
    "plt.xlabel(\"Years to Pay of Debt\")\n",
    "plt.ylabel(\"Number of Respondents\")\n",
    "plt.title('Distribution of Years to Pay Off Debt, Starting Income $80k')"
   ]
  },
  {
   "cell_type": "markdown",
   "metadata": {},
   "source": [
    "Percent of simulations where the loan is paid off in 10 years "
   ]
  },
  {
   "cell_type": "code",
   "execution_count": 120,
   "metadata": {},
   "outputs": [
    {
     "name": "stdout",
     "output_type": "stream",
     "text": [
      "The percent of class making more than 100000 is: 16.78\n"
     ]
    }
   ],
   "source": [
    "#Find the number of simulations where the loan in paid off in 10 years.\n",
    "count_years = 0 \n",
    "\n",
    "for i in range(len(years[:])):\n",
    "    if years[i] <= 10:\n",
    "        count_years = count_years + 1\n",
    "\n",
    "tot = len(years)\n",
    "\n",
    "print(\"The percent of class making more than 100000 is:\", count_years/tot*100)"
   ]
  },
  {
   "cell_type": "markdown",
   "metadata": {},
   "source": [
    "# Part 2d"
   ]
  },
  {
   "cell_type": "markdown",
   "metadata": {},
   "source": [
    "The starting income changes to 90000 and standard deviation changes to 0.17. New histogram of how many years it takes to pay off 95000 and what percent of the simulations are able to do so in less than 10 years. "
   ]
  },
  {
   "cell_type": "code",
   "execution_count": 121,
   "metadata": {},
   "outputs": [],
   "source": [
    "updated_income = {\n",
    "    'inc0'      : 90000,\n",
    "    'g'         : 0.025,\n",
    "    'rho'       : 0.4,\n",
    "    'st_year'   : int(2020),\n",
    "    'wk_years'  : 40,\n",
    "    'sigma'     : 0.17,\n",
    "    'm'         : 0, \n",
    "    'num_draws' : 10000\n",
    "}\n",
    "\n",
    "income_mat_new = income_sim(updated_income)"
   ]
  },
  {
   "cell_type": "code",
   "execution_count": 122,
   "metadata": {},
   "outputs": [],
   "source": [
    "debt_tot = 95000\n",
    "sim = simulation_profile['num_draws']\n",
    "years = []\n",
    "\n",
    "for j in range(sim):\n",
    "    debt = debt_tot #initial debt\n",
    "    yearpp = 0     #counter to count # of years for each\n",
    "    for i in range(len(income_mat_new[0,:])):\n",
    "        payment = 10/100 * income_mat_new[i][j]\n",
    "        debt = debt - payment\n",
    "        yearpp = yearpp + 1\n",
    "        if debt <= 0:\n",
    "            years.append(yearpp)\n",
    "            break"
   ]
  },
  {
   "cell_type": "code",
   "execution_count": 123,
   "metadata": {},
   "outputs": [
    {
     "data": {
      "text/plain": [
       "Text(0.5,1,'Distribution of Years to Pay Off Debt. Starting Income $90k')"
      ]
     },
     "execution_count": 123,
     "metadata": {},
     "output_type": "execute_result"
    },
    {
     "data": {
      "image/png": "[encoded data removed]",
      "text/plain": [
       "<Figure size 432x288 with 1 Axes>"
      ]
     },
     "metadata": {
      "needs_background": "light"
     },
     "output_type": "display_data"
    }
   ],
   "source": [
    "plt.hist(years, bins=5, ec = 'black')\n",
    "plt.xlabel(\"Years to Pay of Debt\")\n",
    "plt.ylabel(\"Number of Respondents\")\n",
    "plt.title('Distribution of Years to Pay Off Debt. Starting Income $90k')"
   ]
  },
  {
   "cell_type": "code",
   "execution_count": 124,
   "metadata": {},
   "outputs": [
    {
     "name": "stdout",
     "output_type": "stream",
     "text": [
      "The percent of class making more than 100000 is: 76.02\n"
     ]
    }
   ],
   "source": [
    "#Find the number of simulations where the loan in paid off in 10 years.\n",
    "count_years = 0 \n",
    "\n",
    "for i in range(len(years[:])):\n",
    "    if years[i] <= 10:\n",
    "        count_years = count_years + 1\n",
    "\n",
    "tot = len(years)\n",
    "\n",
    "print(\"The percent of class making more than 100000 is:\", count_years/tot*100)"
   ]
  }
 ],
 "metadata": {
  "kernelspec": {
   "display_name": "Python 3",
   "language": "python",
   "name": "python3"
  },
  "language_info": {
   "codemirror_mode": {
    "name": "ipython",
    "version": 3
   },
   "file_extension": ".py",
   "mimetype": "text/x-python",
   "name": "python",
   "nbconvert_exporter": "python",
   "pygments_lexer": "ipython3",
   "version": "3.7.0"
  }
 },
 "nbformat": 4,
 "nbformat_minor": 1
}
